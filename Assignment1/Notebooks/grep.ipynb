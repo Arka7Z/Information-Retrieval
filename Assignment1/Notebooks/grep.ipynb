{
 "cells": [
  {
   "cell_type": "code",
   "execution_count": 5,
   "metadata": {
    "collapsed": true
   },
   "outputs": [],
   "source": [
    "import os\n",
    "import io\n",
    "import time\n",
    "import pickle\n",
    "from subprocess import Popen, PIPE\n",
    "from functools import reduce\n",
    "from __future__ import division\n"
   ]
  },
  {
   "cell_type": "code",
   "execution_count": 6,
   "metadata": {},
   "outputs": [],
   "source": [
    "given_output=dict()\n",
    "try:\n",
    "    given_output = pickle.load(open(\"given_output.pickle\", \"rb\"))\n",
    "except (OSError, IOError) as e:\n",
    "\n",
    "    with open('output.txt') as fp:\n",
    "        for line in fp:\n",
    "            line=line.split()\n",
    "            if(len(line)>=2):\n",
    "                query_index=line[0]\n",
    "                doc_ID=line[1]\n",
    "                if query_index in given_output:\n",
    "                    given_output[query_index].append(doc_ID)\n",
    "                else:\n",
    "                    given_output[query_index]=[doc_ID]\n",
    "    pickle.dump(given_output, open(\"given_output.pickle\", \"wb\"))\n",
    "    fp.close()"
   ]
  },
  {
   "cell_type": "code",
   "execution_count": 7,
   "metadata": {},
   "outputs": [
    {
     "name": "stdout",
     "output_type": "stream",
     "text": [
      "['701', 'describe', 'history', 'oil', 'industry']\n",
      "Precision: 4.1095890411  701\n",
      "['702', 'pearl', 'farming', 'operations', 'actual', 'farming', 'operations', 'described', 'culturing', 'pearls', 'japanese', 'pearl', 'productions', 'status', 'pearl', 'farming', 'production']\n",
      "['704', 'goals', 'political', 'views', 'green', 'party']\n",
      "Precision: 18.1818181818  704\n",
      "['705', 'identify', 'efforts', 'proposed', 'undertaken', 'world', 'governments', 'seek', 'reduction', 'iraqs', 'foreign', 'debt']\n"
     ]
    },
    {
     "ename": "KeyboardInterrupt",
     "evalue": "",
     "output_type": "error",
     "traceback": [
      "\u001b[0;31m---------------------------------------------------------------------------\u001b[0m",
      "\u001b[0;31mKeyboardInterrupt\u001b[0m                         Traceback (most recent call last)",
      "\u001b[0;32m<ipython-input-7-b0eda19fc12b>\u001b[0m in \u001b[0;36m<module>\u001b[0;34m()\u001b[0m\n\u001b[1;32m     17\u001b[0m             \u001b[0;32mfor\u001b[0m \u001b[0mterm\u001b[0m \u001b[0;32min\u001b[0m \u001b[0mquery\u001b[0m\u001b[0;34m:\u001b[0m\u001b[0;34m\u001b[0m\u001b[0m\n\u001b[1;32m     18\u001b[0m                 \u001b[0mprocess\u001b[0m\u001b[0;34m=\u001b[0m\u001b[0mPopen\u001b[0m\u001b[0;34m(\u001b[0m\u001b[0;34m[\u001b[0m\u001b[0;34m\"grep\"\u001b[0m\u001b[0;34m,\u001b[0m\u001b[0;34m'-lr'\u001b[0m\u001b[0;34m,\u001b[0m\u001b[0;34m'-w'\u001b[0m\u001b[0;34m,\u001b[0m\u001b[0mterm\u001b[0m\u001b[0;34m,\u001b[0m\u001b[0;34m'alldocs'\u001b[0m\u001b[0;34m]\u001b[0m\u001b[0;34m,\u001b[0m\u001b[0mstdout\u001b[0m\u001b[0;34m=\u001b[0m\u001b[0mPIPE\u001b[0m\u001b[0;34m)\u001b[0m\u001b[0;34m\u001b[0m\u001b[0m\n\u001b[0;32m---> 19\u001b[0;31m                 \u001b[0ms\u001b[0m\u001b[0;34m=\u001b[0m\u001b[0mstr\u001b[0m\u001b[0;34m(\u001b[0m\u001b[0mprocess\u001b[0m\u001b[0;34m.\u001b[0m\u001b[0mstdout\u001b[0m\u001b[0;34m.\u001b[0m\u001b[0mread\u001b[0m\u001b[0;34m(\u001b[0m\u001b[0;34m)\u001b[0m\u001b[0;34m)\u001b[0m\u001b[0;34m\u001b[0m\u001b[0m\n\u001b[0m\u001b[1;32m     20\u001b[0m                 \u001b[0mlist_for_a_term\u001b[0m\u001b[0;34m=\u001b[0m\u001b[0mlist\u001b[0m\u001b[0;34m(\u001b[0m\u001b[0mset\u001b[0m\u001b[0;34m(\u001b[0m\u001b[0ms\u001b[0m\u001b[0;34m.\u001b[0m\u001b[0msplit\u001b[0m\u001b[0;34m(\u001b[0m\u001b[0;34m\"\\n\"\u001b[0m\u001b[0;34m)\u001b[0m\u001b[0;34m)\u001b[0m\u001b[0;34m)\u001b[0m\u001b[0;34m\u001b[0m\u001b[0m\n\u001b[1;32m     21\u001b[0m                 \u001b[0mlist_for_a_term\u001b[0m\u001b[0;34m.\u001b[0m\u001b[0mremove\u001b[0m\u001b[0;34m(\u001b[0m\u001b[0;34m''\u001b[0m\u001b[0;34m)\u001b[0m\u001b[0;34m\u001b[0m\u001b[0m\n",
      "\u001b[0;31mKeyboardInterrupt\u001b[0m: "
     ]
    }
   ],
   "source": [
    "\n",
    "\n",
    "path=os.getcwd()\n",
    "output_file=open(\"grep_output.txt\",\"w\")\n",
    "time_file=open(\"Time_grep.txt\",\"w\")\n",
    "precisions=list()\n",
    "recalls=list()\n",
    "with open('query.txt') as fp:\n",
    "    for line in fp:\n",
    "        query=line.split()\n",
    "        if(len(query)>=2):\n",
    "            query_index=query[0]\n",
    "            query=query[1:]\n",
    "            doc_list=[]\n",
    "            Start = time.time()\n",
    "            for term in query:\n",
    "                process=Popen([\"grep\",'-lr','-w',term,'alldocs'],stdout=PIPE)\n",
    "                s=str(process.stdout.read())\n",
    "                list_for_a_term=list(set(s.split(\"\\n\")))\n",
    "                list_for_a_term.remove('')\n",
    "                list_for_a_term=[doc.replace('alldocs/','') for doc in list_for_a_term]\n",
    "                doc_list.append(list_for_a_term)\n",
    "            doc_list=list(reduce(set.intersection, [set(item) for item in doc_list ]))\n",
    "            End=time.time()\n",
    "            given_doc_list=given_output[query_index]\n",
    "            total_retrieved=len(doc_list)\n",
    "            num_true_positive=len(set(given_doc_list)&set(doc_list))\n",
    "            if(total_retrieved>0):\n",
    "                precision=(num_true_positive/total_retrieved)*100\n",
    "                print(\"Precision: \"+str(precision)+\"  \"+query_index)\n",
    "                precisions.append(precision)\n",
    "            recall=((float)(num_true_positive/50.00))*100.00\n",
    "            recalls.append((query_index,recall))\n",
    "            time_file.write(query_index+\" \"+str(End-Start)+\"\\n\")\n",
    "            for doc in doc_list:\n",
    "                output_file.write(query_index+\" \"+doc)\n",
    "                output_file.write(\"\\n\")\n",
    "average_precision=sum(precisions)/len(precisions)\n",
    "print(\"Average precision is: \"+str(average_precision))\n",
    "print(recalls)\n",
    "fp.close()\n",
    "output_file.close()\n",
    "time_file.close()\n",
    "\n",
    "    \n",
    "\n",
    "    "
   ]
  },
  {
   "cell_type": "code",
   "execution_count": null,
   "metadata": {
    "collapsed": true
   },
   "outputs": [],
   "source": []
  }
 ],
 "metadata": {
  "kernelspec": {
   "display_name": "Python 2",
   "language": "python",
   "name": "python2"
  },
  "language_info": {
   "codemirror_mode": {
    "name": "ipython",
    "version": 2
   },
   "file_extension": ".py",
   "mimetype": "text/x-python",
   "name": "python",
   "nbconvert_exporter": "python",
   "pygments_lexer": "ipython2",
   "version": "2.7.14"
  }
 },
 "nbformat": 4,
 "nbformat_minor": 2
}
